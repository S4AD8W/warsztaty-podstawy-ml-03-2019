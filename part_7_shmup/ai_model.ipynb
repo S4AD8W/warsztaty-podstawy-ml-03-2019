{
 "cells": [
  {
   "cell_type": "code",
   "execution_count": 31,
   "metadata": {},
   "outputs": [],
   "source": [
    "from xgboost import XGBClassifier\n",
    "import pandas as pd\n",
    "import numpy as np"
   ]
  },
  {
   "cell_type": "code",
   "execution_count": 32,
   "metadata": {},
   "outputs": [
    {
     "name": "stdout",
     "output_type": "stream",
     "text": [
      "3,0,0,215,265,240,371,-47,-2,5,163,-36,0,7,129,-70,-1,3,122,-92,2,7,121,-37,-2,7,101,-46,-3,1,5,-93,-2,7,357,-54,-2,2\r\n",
      "3,1,0,215,265,240,369,-42,-2,5,163,-29,0,7,128,-67,-1,3,124,-85,2,7,119,-30,-2,7,98,-45,-3,1,3,-86,-2,7,355,-52,-2,2\r\n",
      "3,2,0,215,265,240,367,-37,-2,5,163,-22,0,7,127,-64,-1,3,126,-78,2,7,117,-23,-2,7,95,-44,-3,1,1,-79,-2,7,353,-50,-2,2\r\n",
      "3,3,0,215,265,240,365,-32,-2,5,163,-15,0,7,126,-61,-1,3,128,-71,2,7,115,-16,-2,7,92,-43,-3,1,-1,-72,-2,7,351,-48,-2,2\r\n",
      "3,4,0,215,265,240,363,-27,-2,5,163,-8,0,7,125,-58,-1,3,130,-64,2,7,113,-9,-2,7,89,-42,-3,1,-3,-65,-2,7,349,-46,-2,2\r\n",
      "3,5,0,215,265,240,361,-22,-2,5,163,-1,0,7,124,-55,-1,3,132,-57,2,7,111,-2,-2,7,86,-41,-3,1,-5,-58,-2,7,347,-44,-2,2\r\n",
      "3,6,0,215,265,240,359,-17,-2,5,163,6,0,7,123,-52,-1,3,134,-50,2,7,109,5,-2,7,83,-40,-3,1,-7,-51,-2,7,345,-42,-2,2\r\n",
      "3,7,0,215,265,240,357,-12,-2,5,163,13,0,7,122,-49,-1,3,136,-43,2,7,107,12,-2,7,80,-39,-3,1,-9,-44,-2,7,343,-40,-2,2\r\n",
      "3,8,0,215,265,240,355,-7,-2,5,163,20,0,7,121,-46,-1,3,138,-36,2,7,105,19,-2,7,77,-38,-3,1,-11,-37,-2,7,341,-38,-2,2\r\n",
      "3,9,0,215,265,240,353,-2,-2,5,163,27,0,7,120,-43,-1,3,140,-29,2,7,103,26,-2,7,74,-37,-3,1,-13,-30,-2,7,339,-36,-2,2\r\n"
     ]
    }
   ],
   "source": [
    "!head train.csv"
   ]
  },
  {
   "cell_type": "code",
   "execution_count": 45,
   "metadata": {},
   "outputs": [
    {
     "data": {
      "text/plain": [
       "0    333\n",
       "1    328\n",
       "3     71\n",
       "2     37\n",
       "Name: action, dtype: int64"
      ]
     },
     "execution_count": 45,
     "metadata": {},
     "output_type": "execute_result"
    }
   ],
   "source": [
    "features = [\"f\" + str(i) for i in range(0,37)]\n",
    "label = [\"action\"]\n",
    "\n",
    "headers = label + features\n",
    "\n",
    "df = pd.read_csv('train.csv', \n",
    "                 sep = ',', \n",
    "                 header = None,\n",
    "                 names = headers)\n",
    "df[\"action\"].value_counts()"
   ]
  },
  {
   "cell_type": "code",
   "execution_count": 37,
   "metadata": {},
   "outputs": [
    {
     "data": {
      "text/plain": [
       "<bound method XGBClassifier.evals_result of XGBClassifier(base_score=0.5, booster='gbtree', colsample_bylevel=1,\n",
       "       colsample_bytree=1, gamma=0, learning_rate=0.1, max_delta_step=0,\n",
       "       max_depth=3, min_child_weight=1, missing=None, n_estimators=100,\n",
       "       n_jobs=1, nthread=None, objective='multi:softprob', random_state=0,\n",
       "       reg_alpha=0, reg_lambda=1, scale_pos_weight=1, seed=None,\n",
       "       silent=True, subsample=1)>"
      ]
     },
     "execution_count": 37,
     "metadata": {},
     "output_type": "execute_result"
    }
   ],
   "source": [
    "y_train = df[\"action\"]\n",
    "X_train = df.drop(columns=\"action\")\n",
    "\n",
    "model = XGBClassifier().fit(X_train, y_train)\n",
    "\n",
    "model.evals_result"
   ]
  },
  {
   "cell_type": "code",
   "execution_count": 40,
   "metadata": {},
   "outputs": [
    {
     "name": "stdout",
     "output_type": "stream",
     "text": [
      "Training accuracy: 0.99, evaluation accuracy: 0.95\n"
     ]
    },
    {
     "name": "stderr",
     "output_type": "stream",
     "text": [
      "/usr/local/lib/python3.7/site-packages/sklearn/linear_model/logistic.py:432: FutureWarning: Default solver will be changed to 'lbfgs' in 0.22. Specify a solver to silence this warning.\n",
      "  FutureWarning)\n",
      "/usr/local/lib/python3.7/site-packages/sklearn/linear_model/logistic.py:459: FutureWarning: Default multi_class will be changed to 'auto' in 0.22. Specify the multi_class option to silence this warning.\n",
      "  \"this warning.\", FutureWarning)\n"
     ]
    }
   ],
   "source": [
    "from sklearn.model_selection import train_test_split\n",
    "from sklearn.linear_model import LogisticRegression\n",
    "from sklearn.metrics import accuracy_score\n",
    "\n",
    "X_train, X_test, y_train, y_test = train_test_split(X_train, y_train, test_size=0.25)\n",
    "\n",
    "classifier = LogisticRegression().fit(X_train, y_train)\n",
    "y_pred_test = classifier.predict(X_test)\n",
    "y_pred_train = classifier.predict(X_train)\n",
    "\n",
    "test_accuracy = accuracy_score(y_test, y_pred_test)\n",
    "train_accuracy = accuracy_score(y_train, y_pred_train)\n",
    "print('Training accuracy: {0:.2f}, evaluation accuracy: {1:.2f}'.format(train_accuracy, test_accuracy))"
   ]
  },
  {
   "cell_type": "code",
   "execution_count": 25,
   "metadata": {},
   "outputs": [],
   "source": [
    "# y_train = df[0]\n",
    "# X_train = df.drop(columns=[0])\n",
    "# y_train_matrix = y_train.values\n",
    "# X_train_matrix = X_train.values"
   ]
  },
  {
   "cell_type": "code",
   "execution_count": 26,
   "metadata": {},
   "outputs": [],
   "source": [
    "# model = XGBClassifier().fit(X_train_matrix, y_train_matrix)"
   ]
  },
  {
   "cell_type": "code",
   "execution_count": 46,
   "metadata": {},
   "outputs": [],
   "source": [
    "import pickle\n",
    "\n",
    "pickle.dump(classifier, open(\"ai_model.pkl\",\"wb\"))"
   ]
  },
  {
   "cell_type": "code",
   "execution_count": null,
   "metadata": {},
   "outputs": [],
   "source": [
    "!ls"
   ]
  },
  {
   "cell_type": "code",
   "execution_count": 20,
   "metadata": {},
   "outputs": [
    {
     "data": {
      "text/plain": [
       "array([0])"
      ]
     },
     "execution_count": 20,
     "metadata": {},
     "output_type": "execute_result"
    }
   ],
   "source": [
    "model_p = pickle.load(open(\"ai_model.pkl\",\"rb\"))\n",
    "\n",
    "model_p.predict([0,215,265,240,384,-88,-1,3,335,-37,-2,6,290,-75,-1,1,199,-48,-3,1,\n",
    "                           100,-43,2,7,330,-48,1,5,259,-54,-3,5,23,-98,-3,1])"
   ]
  },
  {
   "cell_type": "code",
   "execution_count": null,
   "metadata": {},
   "outputs": [],
   "source": []
  }
 ],
 "metadata": {
  "kernelspec": {
   "display_name": "Python 3",
   "language": "python",
   "name": "python3"
  },
  "language_info": {
   "codemirror_mode": {
    "name": "ipython",
    "version": 3
   },
   "file_extension": ".py",
   "mimetype": "text/x-python",
   "name": "python",
   "nbconvert_exporter": "python",
   "pygments_lexer": "ipython3",
   "version": "3.7.1"
  }
 },
 "nbformat": 4,
 "nbformat_minor": 2
}
