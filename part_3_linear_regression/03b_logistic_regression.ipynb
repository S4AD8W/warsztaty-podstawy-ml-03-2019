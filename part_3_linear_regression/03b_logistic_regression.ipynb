{
 "cells": [
  {
   "cell_type": "markdown",
   "metadata": {},
   "source": [
    "## Klasyfikacja, a regresja\n",
    "\n",
    "Regresja- przewidywanie wartości ciągłej\n",
    "\n",
    "Klasyfikacja- przewidywanie etykiety - skończony zbiór, nieuporządkowany\n",
    "\n",
    "Klasyfikacja binarna- tylko 2 klasy\n",
    "\n",
    "\n",
    "Metryką regresji jest RMSE, metryką klasyfikacji jest np. accuracy (dokładność)"
   ]
  },
  {
   "cell_type": "markdown",
   "metadata": {},
   "source": [
    "## Zastosowanie regresji liniowej do przewidzenia klasy\n",
    "\n",
    "Np na podstawie wzrostu spróbuj przewidzieć, czy osoba to mężczyzna, czy kobieta:"
   ]
  },
  {
   "cell_type": "markdown",
   "metadata": {},
   "source": [
    "Dla regresji liniowej można np. przyjąć, że np klasa kobieta ma wartość 0, a klasa mężczyzna ma wartość 1\n",
    "\n",
    "Powyżej jakiegoś progu przyjmujemy, że obserwacja to męzczyzna\n",
    "\n",
    "Regresja liniowa zwraca wartość ciągłą (czasem poniżej 0)- trudno to zinterpretować jako prawdopobieństwo\n",
    "\n",
    "\n",
    "\n",
    "\n",
    "\n",
    "Regresja logistyczna zwraca wartość pomiędzy 0, a 1- można to zinterpretować jako prawdopodobieństwo przynależności do klasy\n",
    "\n",
    "\n",
    "Powyżej pewnego progu odcięcia (zwykle 0.5), możemy przyjąć że obserwacja jest z klasy mężczyzna"
   ]
  },
  {
   "cell_type": "markdown",
   "metadata": {},
   "source": [
    "![regresja logistyczna](logistic_regression/lrp.webp)\n"
   ]
  },
  {
   "cell_type": "markdown",
   "metadata": {},
   "source": [
    "![regresja logistyczna](logistic_regression/rlr.jpg)\n"
   ]
  },
  {
   "cell_type": "markdown",
   "metadata": {},
   "source": [
    "![regresja logistyczna](logistic_regression/lf.svg)\n"
   ]
  },
  {
   "cell_type": "markdown",
   "metadata": {},
   "source": [
    "![regresja logistyczna](logistic_regression/lfp.png)\n"
   ]
  },
  {
   "cell_type": "markdown",
   "metadata": {},
   "source": [
    "# Regresja, a sieci neuronowe!\n",
    "\n",
    "Sieci neuronowe w podstawowej formie, to po prostu złożenie wielu regresji logistycznych! Potrafią one dzięki temu aproksymować funkcje także nieliniowe."
   ]
  }
 ],
 "metadata": {
  "kernelspec": {
   "display_name": "Python 3",
   "language": "python",
   "name": "python3"
  },
  "language_info": {
   "codemirror_mode": {
    "name": "ipython",
    "version": 3
   },
   "file_extension": ".py",
   "mimetype": "text/x-python",
   "name": "python",
   "nbconvert_exporter": "python",
   "pygments_lexer": "ipython3",
   "version": "3.6.5"
  }
 },
 "nbformat": 4,
 "nbformat_minor": 2
}
